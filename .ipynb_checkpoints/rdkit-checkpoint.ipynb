{
 "cells": [
  {
   "cell_type": "code",
   "execution_count": 13,
   "id": "07e88e9a",
   "metadata": {},
   "outputs": [
    {
     "name": "stdout",
     "output_type": "stream",
     "text": [
      "Error: [Errno 2] No such file or directory: 'SMILES_Big_Data_Set.csv'\n"
     ]
    }
   ],
   "source": [
    "import pandas as pd\n",
    "from rdkit import Chem\n",
    "from rdkit.Chem import AllChem\n",
    "import py3Dmol\n",
    "\n",
    "def smiles_to_3d(smiles):\n",
    "    try:\n",
    "        mol = Chem.MolFromSmiles(smiles)\n",
    "        if mol is None:\n",
    "            raise ValueError(f\"Invalid SMILES string: {smiles}\")\n",
    "        \n",
    "        mol = Chem.AddHs(mol)\n",
    "        if AllChem.EmbedMolecule(mol, randomSeed=42) != 0:\n",
    "            raise ValueError(f\"Embedding failed for SMILES: {smiles}\")\n",
    "        \n",
    "        if AllChem.UFFOptimizeMolecule(mol) != 0:\n",
    "            raise ValueError(f\"Optimization failed for SMILES: {smiles}\")\n",
    "        \n",
    "        return mol\n",
    "    except Exception as e:\n",
    "        print(f\"Error processing SMILES {smiles}: {e}\")\n",
    "        return None\n",
    "\n",
    "def main(input_file):\n",
    "    try:\n",
    "        df = pd.read_csv(input_file)\n",
    "        \n",
    "        if 'SMILES' not in df.columns:\n",
    "            raise ValueError(\"CSV file must contain a 'SMILES' column\")\n",
    "        \n",
    "        pdb_data = \"\"\n",
    "        for i, smiles in enumerate(df['SMILES'].dropna()):\n",
    "            mol = smiles_to_3d(smiles)\n",
    "            if mol:\n",
    "                pdb_block = Chem.MolToPDBBlock(mol)\n",
    "                pdb_data += f\"MODEL     {i+1}\\n\" + pdb_block + \"ENDMDL\\n\"\n",
    "        \n",
    "        if pdb_data:\n",
    "            with open('conformers.pdb', 'w') as f:\n",
    "                f.write(pdb_data)\n",
    "            \n",
    "            view = py3Dmol.view(width=800, height=600)\n",
    "            view.addModel(pdb_data, 'pdb')\n",
    "            view.setStyle({'stick': {}})\n",
    "            view.zoomTo()\n",
    "            view.show()\n",
    "        else:\n",
    "            print(\"No valid molecules were processed.\")\n",
    "    \n",
    "    except Exception as e:\n",
    "        print(f\"Error: {e}\")\n",
    "\n",
    "if __name__ == \"__main__\":\n",
    "    input_file = 'SMILES_Big_Data_Set.csv'\n",
    "    main(input_file)\n"
   ]
  },
  {
   "cell_type": "code",
   "execution_count": null,
   "id": "10526f6d",
   "metadata": {},
   "outputs": [],
   "source": []
  }
 ],
 "metadata": {
  "kernelspec": {
   "display_name": "Python 3 (ipykernel)",
   "language": "python",
   "name": "python3"
  },
  "language_info": {
   "codemirror_mode": {
    "name": "ipython",
    "version": 3
   },
   "file_extension": ".py",
   "mimetype": "text/x-python",
   "name": "python",
   "nbconvert_exporter": "python",
   "pygments_lexer": "ipython3",
   "version": "3.10.10"
  }
 },
 "nbformat": 4,
 "nbformat_minor": 5
}
